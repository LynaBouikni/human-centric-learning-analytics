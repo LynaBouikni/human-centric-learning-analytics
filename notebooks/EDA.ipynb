{
 "cells": [
  {
   "cell_type": "markdown",
   "id": "b179caf2",
   "metadata": {},
   "source": [
    " # Human-Centric Learning Analytics – EDA Overview\n",
    "\n",
    "In this notebook, we explore synthetic learner data from both SQL (SQLite) and NoSQL (MongoDB)."
   ]
  },
  {
   "cell_type": "markdown",
   "id": "efe1de13",
   "metadata": {},
   "source": [
    "## 1. Loading Data from SQLite\n",
    "\n",
    "We'll start with loading the learners and clickstream data from our local learning_analytics.db (SQL)."
   ]
  },
  {
   "cell_type": "code",
   "execution_count": 3,
   "id": "f2cded7f",
   "metadata": {},
   "outputs": [],
   "source": [
    "# Imports\n",
    "\n",
    "import sqlite3\n",
    "import pandas as pd\n",
    "import matplotlib.pyplot as plt\n",
    "import seaborn as sns\n",
    "\n",
    "# Set visual style\n",
    "sns.set(style=\"whitegrid\")"
   ]
  },
  {
   "cell_type": "code",
   "execution_count": 7,
   "id": "7d555123",
   "metadata": {},
   "outputs": [
    {
     "data": {
      "text/html": [
       "<div>\n",
       "<style scoped>\n",
       "    .dataframe tbody tr th:only-of-type {\n",
       "        vertical-align: middle;\n",
       "    }\n",
       "\n",
       "    .dataframe tbody tr th {\n",
       "        vertical-align: top;\n",
       "    }\n",
       "\n",
       "    .dataframe thead th {\n",
       "        text-align: right;\n",
       "    }\n",
       "</style>\n",
       "<table border=\"1\" class=\"dataframe\">\n",
       "  <thead>\n",
       "    <tr style=\"text-align: right;\">\n",
       "      <th></th>\n",
       "      <th>learner_id</th>\n",
       "      <th>name</th>\n",
       "      <th>age</th>\n",
       "      <th>gender</th>\n",
       "      <th>average_score</th>\n",
       "    </tr>\n",
       "  </thead>\n",
       "  <tbody>\n",
       "    <tr>\n",
       "      <th>0</th>\n",
       "      <td>0</td>\n",
       "      <td>Mary</td>\n",
       "      <td>58</td>\n",
       "      <td>25</td>\n",
       "      <td>51.25</td>\n",
       "    </tr>\n",
       "    <tr>\n",
       "      <th>1</th>\n",
       "      <td>1</td>\n",
       "      <td>Ashley</td>\n",
       "      <td>35</td>\n",
       "      <td>33</td>\n",
       "      <td>61.16</td>\n",
       "    </tr>\n",
       "    <tr>\n",
       "      <th>2</th>\n",
       "      <td>2</td>\n",
       "      <td>Mark</td>\n",
       "      <td>24</td>\n",
       "      <td>52</td>\n",
       "      <td>54.35</td>\n",
       "    </tr>\n",
       "    <tr>\n",
       "      <th>3</th>\n",
       "      <td>3</td>\n",
       "      <td>Robert</td>\n",
       "      <td>45</td>\n",
       "      <td>20</td>\n",
       "      <td>51.49</td>\n",
       "    </tr>\n",
       "    <tr>\n",
       "      <th>4</th>\n",
       "      <td>4</td>\n",
       "      <td>Andrew</td>\n",
       "      <td>31</td>\n",
       "      <td>32</td>\n",
       "      <td>75.27</td>\n",
       "    </tr>\n",
       "  </tbody>\n",
       "</table>\n",
       "</div>"
      ],
      "text/plain": [
       "   learner_id    name  age  gender  average_score\n",
       "0           0    Mary   58      25          51.25\n",
       "1           1  Ashley   35      33          61.16\n",
       "2           2    Mark   24      52          54.35\n",
       "3           3  Robert   45      20          51.49\n",
       "4           4  Andrew   31      32          75.27"
      ]
     },
     "execution_count": 7,
     "metadata": {},
     "output_type": "execute_result"
    }
   ],
   "source": [
    "# Connecting to SQLite and loading tables \n",
    "\n",
    "# Connect to the SQL database\n",
    "conn = sqlite3.connect(\"../data/learning_analytics.db\")\n",
    "\n",
    "# Load Tables into DataFrames\n",
    "learners_df= pd.read_sql_query(\"SELECT * FROM learners\", conn) \n",
    "clickstream_df= pd.read_sql_query(\"SELECT * FROM clickstream\", conn) \n",
    "\n",
    "# Close the connection\n",
    "conn.close()\n",
    "\n",
    "# Preview the data\n",
    "learners_df.head()"
   ]
  }
 ],
 "metadata": {
  "kernelspec": {
   "display_name": "learning_analytics",
   "language": "python",
   "name": "python3"
  },
  "language_info": {
   "codemirror_mode": {
    "name": "ipython",
    "version": 3
   },
   "file_extension": ".py",
   "mimetype": "text/x-python",
   "name": "python",
   "nbconvert_exporter": "python",
   "pygments_lexer": "ipython3",
   "version": "3.10.18"
  }
 },
 "nbformat": 4,
 "nbformat_minor": 5
}
