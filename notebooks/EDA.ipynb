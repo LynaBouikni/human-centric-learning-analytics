{
 "cells": [
  {
   "cell_type": "markdown",
   "id": "b179caf2",
   "metadata": {},
   "source": [
    "## 1. Loading Data from SQLite # Human-Centric Learning Analytics – EDA Overview\n",
    "\n",
    "# In this notebook, we explore synthetic learner data from both SQL (SQLite) and NoSQL (MongoDB).\n",
    "# Step 1: Load learners and clickstream data from SQLite.\n",
    "\n",
    "\n",
    "We'll start with loading the learners and clickstream data from our local learning_analytics.db (SQL)."
   ]
  },
  {
   "cell_type": "code",
   "execution_count": null,
   "id": "f2cded7f",
   "metadata": {
    "vscode": {
     "languageId": "plaintext"
    }
   },
   "outputs": [],
   "source": []
  }
 ],
 "metadata": {
  "language_info": {
   "name": "python"
  }
 },
 "nbformat": 4,
 "nbformat_minor": 5
}
