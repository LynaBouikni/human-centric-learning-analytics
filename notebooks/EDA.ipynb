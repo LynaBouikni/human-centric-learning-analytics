{
 "cells": [
  {
   "cell_type": "markdown",
   "id": "b179caf2",
   "metadata": {},
   "source": [
    " # Human-Centric Learning Analytics – EDA Overview\n",
    "\n",
    "In this notebook, we explore synthetic learner data from both SQL (SQLite) and NoSQL (MongoDB)."
   ]
  },
  {
   "cell_type": "markdown",
   "id": "efe1de13",
   "metadata": {},
   "source": [
    "## 1. Loading Data from SQLite\n",
    "\n",
    "We'll start with loading the learners and clickstream data from our local learning_analytics.db (SQL)."
   ]
  },
  {
   "cell_type": "code",
   "execution_count": 3,
   "id": "f2cded7f",
   "metadata": {},
   "outputs": [],
   "source": [
    "# Imports\n",
    "\n",
    "import sqlite3\n",
    "import pandas as pd\n",
    "import matplotlib.pyplot as plt\n",
    "import seaborn as sns\n",
    "\n",
    "# Set visual style\n",
    "sns.set(style=\"whitegrid\")"
   ]
  },
  {
   "cell_type": "code",
   "execution_count": null,
   "id": "7d555123",
   "metadata": {},
   "outputs": [],
   "source": [
    "# Connecting to SQLite and loading tables \n",
    "\n",
    "# Connect to the SQL database\n",
    "conn= sqlite3.connect(\"\"data/learning_analytics.db\"\")\n",
    "\n",
    "# Load Tables into "
   ]
  }
 ],
 "metadata": {
  "kernelspec": {
   "display_name": "learning_analytics",
   "language": "python",
   "name": "python3"
  },
  "language_info": {
   "codemirror_mode": {
    "name": "ipython",
    "version": 3
   },
   "file_extension": ".py",
   "mimetype": "text/x-python",
   "name": "python",
   "nbconvert_exporter": "python",
   "pygments_lexer": "ipython3",
   "version": "3.10.18"
  }
 },
 "nbformat": 4,
 "nbformat_minor": 5
}
