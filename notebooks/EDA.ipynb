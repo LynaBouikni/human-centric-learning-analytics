{
 "cells": [
  {
   "cell_type": "markdown",
   "id": "b179caf2",
   "metadata": {},
   "source": [
    " # Human-Centric Learning Analytics – EDA Overview\n",
    "\n",
    "In this notebook, we explore synthetic learner data from both SQL (SQLite) and NoSQL (MongoDB)."
   ]
  },
  {
   "cell_type": "markdown",
   "id": "efe1de13",
   "metadata": {},
   "source": [
    "## 1. Loading Data from SQLite\n",
    "\n",
    "We'll start with loading the learners and clickstream data from our local learning_analytics.db (SQL)."
   ]
  },
  {
   "cell_type": "code",
   "execution_count": 3,
   "id": "f2cded7f",
   "metadata": {},
   "outputs": [],
   "source": [
    "# Imports\n",
    "\n",
    "import sqlite3\n",
    "import pandas as pd\n",
    "import matplotlib.pyplot as plt\n",
    "import seaborn as sns\n",
    "\n",
    "# Set visual style\n",
    "sns.set(style=\"whitegrid\")"
   ]
  },
  {
   "cell_type": "code",
   "execution_count": 7,
   "id": "7d555123",
   "metadata": {},
   "outputs": [
    {
     "data": {
      "text/html": [
       "<div>\n",
       "<style scoped>\n",
       "    .dataframe tbody tr th:only-of-type {\n",
       "        vertical-align: middle;\n",
       "    }\n",
       "\n",
       "    .dataframe tbody tr th {\n",
       "        vertical-align: top;\n",
       "    }\n",
       "\n",
       "    .dataframe thead th {\n",
       "        text-align: right;\n",
       "    }\n",
       "</style>\n",
       "<table border=\"1\" class=\"dataframe\">\n",
       "  <thead>\n",
       "    <tr style=\"text-align: right;\">\n",
       "      <th></th>\n",
       "      <th>learner_id</th>\n",
       "      <th>name</th>\n",
       "      <th>age</th>\n",
       "      <th>gender</th>\n",
       "      <th>average_score</th>\n",
       "    </tr>\n",
       "  </thead>\n",
       "  <tbody>\n",
       "    <tr>\n",
       "      <th>0</th>\n",
       "      <td>0</td>\n",
       "      <td>Mary</td>\n",
       "      <td>58</td>\n",
       "      <td>25</td>\n",
       "      <td>51.25</td>\n",
       "    </tr>\n",
       "    <tr>\n",
       "      <th>1</th>\n",
       "      <td>1</td>\n",
       "      <td>Ashley</td>\n",
       "      <td>35</td>\n",
       "      <td>33</td>\n",
       "      <td>61.16</td>\n",
       "    </tr>\n",
       "    <tr>\n",
       "      <th>2</th>\n",
       "      <td>2</td>\n",
       "      <td>Mark</td>\n",
       "      <td>24</td>\n",
       "      <td>52</td>\n",
       "      <td>54.35</td>\n",
       "    </tr>\n",
       "    <tr>\n",
       "      <th>3</th>\n",
       "      <td>3</td>\n",
       "      <td>Robert</td>\n",
       "      <td>45</td>\n",
       "      <td>20</td>\n",
       "      <td>51.49</td>\n",
       "    </tr>\n",
       "    <tr>\n",
       "      <th>4</th>\n",
       "      <td>4</td>\n",
       "      <td>Andrew</td>\n",
       "      <td>31</td>\n",
       "      <td>32</td>\n",
       "      <td>75.27</td>\n",
       "    </tr>\n",
       "  </tbody>\n",
       "</table>\n",
       "</div>"
      ],
      "text/plain": [
       "   learner_id    name  age  gender  average_score\n",
       "0           0    Mary   58      25          51.25\n",
       "1           1  Ashley   35      33          61.16\n",
       "2           2    Mark   24      52          54.35\n",
       "3           3  Robert   45      20          51.49\n",
       "4           4  Andrew   31      32          75.27"
      ]
     },
     "execution_count": 7,
     "metadata": {},
     "output_type": "execute_result"
    }
   ],
   "source": [
    "# Connecting to SQLite and loading tables \n",
    "\n",
    "# Connect to the SQL database\n",
    "conn = sqlite3.connect(\"../data/learning_analytics.db\")\n",
    "\n",
    "# Load Tables into DataFrames\n",
    "learners_df= pd.read_sql_query(\"SELECT * FROM learners\", conn) \n",
    "clickstream_df= pd.read_sql_query(\"SELECT * FROM clickstream\", conn) \n",
    "\n",
    "# Close the connection\n",
    "conn.close()\n",
    "\n",
    "# Preview the data\n",
    "learners_df.head()"
   ]
  },
  {
   "cell_type": "markdown",
   "id": "cb09d81e",
   "metadata": {},
   "source": [
    "## 2. EXPLORATORY DATA ANALYSIS:"
   ]
  },
  {
   "cell_type": "markdown",
   "id": "bae2e3b9",
   "metadata": {},
   "source": [
    "2.1 Analyzing the number of events per learner:"
   ]
  },
  {
   "cell_type": "code",
   "execution_count": 10,
   "id": "eb02c807",
   "metadata": {},
   "outputs": [
    {
     "data": {
      "text/plain": [
       "learner_id\n",
       "0     28\n",
       "1     22\n",
       "2     76\n",
       "3     59\n",
       "4     35\n",
       "      ..\n",
       "95    55\n",
       "96    21\n",
       "97    80\n",
       "98    33\n",
       "99    30\n",
       "Name: count, Length: 100, dtype: int64"
      ]
     },
     "execution_count": 10,
     "metadata": {},
     "output_type": "execute_result"
    }
   ],
   "source": [
    "# Counting the number of clickstream events per learner\n",
    "events_per_learner = clickstream_df[\"learner_id\"].value_counts().sort_index()\n",
    "events_per_learner"
   ]
  },
  {
   "cell_type": "code",
   "execution_count": 11,
   "id": "bc5834fb",
   "metadata": {},
   "outputs": [
    {
     "data": {
      "text/html": [
       "<div>\n",
       "<style scoped>\n",
       "    .dataframe tbody tr th:only-of-type {\n",
       "        vertical-align: middle;\n",
       "    }\n",
       "\n",
       "    .dataframe tbody tr th {\n",
       "        vertical-align: top;\n",
       "    }\n",
       "\n",
       "    .dataframe thead th {\n",
       "        text-align: right;\n",
       "    }\n",
       "</style>\n",
       "<table border=\"1\" class=\"dataframe\">\n",
       "  <thead>\n",
       "    <tr style=\"text-align: right;\">\n",
       "      <th></th>\n",
       "      <th>learner_id</th>\n",
       "      <th>event_count</th>\n",
       "    </tr>\n",
       "  </thead>\n",
       "  <tbody>\n",
       "    <tr>\n",
       "      <th>0</th>\n",
       "      <td>0</td>\n",
       "      <td>28</td>\n",
       "    </tr>\n",
       "    <tr>\n",
       "      <th>1</th>\n",
       "      <td>1</td>\n",
       "      <td>22</td>\n",
       "    </tr>\n",
       "    <tr>\n",
       "      <th>2</th>\n",
       "      <td>2</td>\n",
       "      <td>76</td>\n",
       "    </tr>\n",
       "    <tr>\n",
       "      <th>3</th>\n",
       "      <td>3</td>\n",
       "      <td>59</td>\n",
       "    </tr>\n",
       "    <tr>\n",
       "      <th>4</th>\n",
       "      <td>4</td>\n",
       "      <td>35</td>\n",
       "    </tr>\n",
       "  </tbody>\n",
       "</table>\n",
       "</div>"
      ],
      "text/plain": [
       "   learner_id  event_count\n",
       "0           0           28\n",
       "1           1           22\n",
       "2           2           76\n",
       "3           3           59\n",
       "4           4           35"
      ]
     },
     "execution_count": 11,
     "metadata": {},
     "output_type": "execute_result"
    }
   ],
   "source": [
    "# Convert to DataFrame for plotting\n",
    "events_df = events_per_learner.reset_index()\n",
    "events_df.columns = ['learner_id', 'event_count']\n",
    "\n",
    "# Preview the top 5\n",
    "events_df.head() "
   ]
  },
  {
   "cell_type": "code",
   "execution_count": 12,
   "id": "afb9f780",
   "metadata": {},
   "outputs": [
    {
     "data": {
      "image/png": "[encoded data removed]",
      "text/plain": [
       "<Figure size 800x500 with 1 Axes>"
      ]
     },
     "metadata": {},
     "output_type": "display_data"
    }
   ],
   "source": [
    "# Histogram of number of events per learner\n",
    "plt.figure(figsize=(8, 5))\n",
    "sns.histplot(events_df['event_count'], bins=20, kde=True, color='skyblue')\n",
    "plt.title(\"Distribution of Event Counts per Learner\")\n",
    "plt.xlabel(\"Number of Events\")\n",
    "plt.ylabel(\"Number of Learners\")\n",
    "plt.tight_layout()\n",
    "plt.show()\n"
   ]
  },
  {
   "cell_type": "markdown",
   "id": "697f4db2",
   "metadata": {},
   "source": [
    "-> Analysis:\n",
    "\n",
    "the Histogram shows how many events each learner generated.\n",
    "\n",
    "-> Observations:\n",
    "\n",
    "- Most learners hover around 40–60 events.\n",
    "\n",
    "- Distribution is fairly uniform (no major spike or drop).\n",
    "\n",
    "- A few outliers hit ~80 events; potential power users or bots.\n",
    "\n",
    "-> Interpretation:\n",
    "\n",
    "- The system generates realistic variation in engagement.\n",
    "\n",
    "- No learners with 0 events; this is good data.\n",
    "\n",
    "- Could set a baseline for defining “low engagement” (<30) or “high engagement” (>70)."
   ]
  },
  {
   "cell_type": "code",
   "execution_count": 13,
   "id": "dbc1ed0f",
   "metadata": {},
   "outputs": [
    {
     "name": "stderr",
     "output_type": "stream",
     "text": [
      "C:\\Users\\lynab\\AppData\\Local\\Temp\\ipykernel_30752\\3430902413.py:5: FutureWarning: \n",
      "\n",
      "Passing `palette` without assigning `hue` is deprecated and will be removed in v0.14.0. Assign the `x` variable to `hue` and set `legend=False` for the same effect.\n",
      "\n",
      "  sns.barplot(data=top_learners, x='learner_id', y='event_count', palette='viridis')\n"
     ]
    },
    {
     "data": {
      "image/png": "[encoded data removed]",
      "text/plain": [
       "<Figure size 800x500 with 1 Axes>"
      ]
     },
     "metadata": {},
     "output_type": "display_data"
    }
   ],
   "source": [
    "# Top 10 most active learners\n",
    "top_learners = events_df.sort_values(by='event_count', ascending=False).head(10)\n",
    "\n",
    "plt.figure(figsize=(8, 5))\n",
    "sns.barplot(data=top_learners, x='learner_id', y='event_count', palette='viridis')\n",
    "plt.title(\"Top 10 Most Active Learners\")\n",
    "plt.xlabel(\"Learner ID\")\n",
    "plt.ylabel(\"Number of Events\")\n",
    "plt.xticks(rotation=45)\n",
    "plt.tight_layout()\n",
    "plt.show()\n"
   ]
  },
  {
   "cell_type": "markdown",
   "id": "0503dcc1",
   "metadata": {},
   "source": [
    "-> Analysis:\n",
    "\n",
    "The Bar chart shows the 10 learners with the most recorded events.\n",
    "\n",
    "-> Observations:\n",
    "\n",
    "- All top 10 users have ~75–80 events, meaning they’re maximally active.\n",
    "\n",
    "- Distribution among top learners is very flat — no single learner dominates.\n",
    "\n",
    "- Learners 15, 87, and 97 tie for the top spot.\n",
    "\n",
    "-> Interpretation:\n",
    "\n",
    "We may use this to profile high performers or reward high participation.\n",
    "\n",
    "Also useful to study behavior patterns of the top group: what events do they trigger? What reflections do they write?"
   ]
  },
  {
   "cell_type": "code",
   "execution_count": null,
   "id": "d21cef32",
   "metadata": {},
   "outputs": [],
   "source": []
  }
 ],
 "metadata": {
  "kernelspec": {
   "display_name": "learning_analytics",
   "language": "python",
   "name": "python3"
  },
  "language_info": {
   "codemirror_mode": {
    "name": "ipython",
    "version": 3
   },
   "file_extension": ".py",
   "mimetype": "text/x-python",
   "name": "python",
   "nbconvert_exporter": "python",
   "pygments_lexer": "ipython3",
   "version": "3.10.18"
  }
 },
 "nbformat": 4,
 "nbformat_minor": 5
}
